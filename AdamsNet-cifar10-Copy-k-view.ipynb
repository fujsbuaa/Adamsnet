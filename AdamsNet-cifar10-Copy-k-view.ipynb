{
 "cells": [
  {
   "cell_type": "code",
   "execution_count": 2,
   "metadata": {
    "slideshow": {
     "slide_type": "slide"
    }
   },
   "outputs": [],
   "source": [
    "import numpy as np\n",
    "import torch\n",
    "from torch import nn\n",
    "import torch.nn.functional as F\n",
    "from torch.autograd import Variable\n",
    "from torchvision.datasets import CIFAR10\n",
    "from torchvision.datasets import MNIST"
   ]
  },
  {
   "cell_type": "code",
   "execution_count": 3,
   "metadata": {
    "slideshow": {
     "slide_type": "subslide"
    }
   },
   "outputs": [],
   "source": [
    "def conv3x3(in_channels, out_channels, stride = 1):\n",
    "    return nn.Conv2d(in_channels, out_channels, kernel_size = 3, stride = stride, padding = 1, bias = False)"
   ]
  },
  {
   "cell_type": "code",
   "execution_count": 4,
   "metadata": {
    "slideshow": {
     "slide_type": "skip"
    }
   },
   "outputs": [],
   "source": [
    "class adamsnet(nn.Module):\n",
    "    def __init__(self, in_channels, num_classes):\n",
    "        super(adamsnet, self).__init__()\n",
    "        \n",
    "        self.k1 = torch.nn.Parameter(torch.Tensor(1).uniform_(0.0, 1.0))\n",
    "        self.k2 = torch.nn.Parameter(torch.Tensor(1).uniform_(0.0, 1.0))\n",
    "        self.k3 = torch.nn.Parameter(torch.Tensor(1).uniform_(0.0, 1.0))\n",
    "        self.k4 = torch.nn.Parameter(torch.Tensor(1).uniform_(0.0, 1.0))\n",
    "        self.k5 = torch.nn.Parameter(torch.Tensor(1).uniform_(0.0, 1.0))\n",
    "        self.k6 = torch.nn.Parameter(torch.Tensor(1).uniform_(0.0, 1.0))\n",
    "        self.k7 = torch.nn.Parameter(torch.Tensor(1).uniform_(0.0, 1.0))\n",
    "        self.k8 = torch.nn.Parameter(torch.Tensor(1).uniform_(0.0, 1.0))\n",
    "        \n",
    "        self.MaxPool = nn.MaxPool2d(2, 2)\n",
    "        \n",
    "        self.conv1x1_residual2 = nn.Conv2d(in_channels = 64, out_channels = 128, kernel_size = 1)\n",
    "        self.conv1x1_residual4 = nn.Conv2d(in_channels = 128, out_channels = 256, kernel_size = 1)\n",
    "        self.conv1x1_residual6 = nn.Conv2d(in_channels = 256, out_channels = 512, kernel_size = 1)\n",
    "        \n",
    "           \n",
    "            \n",
    "            \n",
    "        \n",
    "        self.conv0 = nn.Conv2d(in_channels, out_channels = 64, kernel_size = 3, stride = 1, padding = 1)\n",
    "        \n",
    "    \n",
    "        self.conv1 = conv3x3(in_channels = 64, out_channels = 64, stride = 1)\n",
    "        self.bn1 = nn.BatchNorm2d(64)\n",
    "        \n",
    "        self.conv2 = conv3x3(in_channels = 64, out_channels = 64, stride = 1)\n",
    "        self.bn2 = nn.BatchNorm2d(64)\n",
    "        \n",
    "        self.conv3 = conv3x3(in_channels = 64, out_channels = 64, stride = 1)\n",
    "        self.bn3 = nn.BatchNorm2d(64)        \n",
    "\n",
    "        self.conv4 = conv3x3(in_channels = 64, out_channels = 64, stride = 1)\n",
    "        self.bn4 = nn.BatchNorm2d(64)\n",
    "        \n",
    "        self.conv5 = conv3x3(in_channels = 64, out_channels = 128, stride = 2)\n",
    "        self.bn5 = nn.BatchNorm2d(64)\n",
    "        \n",
    "        self.conv6 = conv3x3(in_channels = 128, out_channels = 128, stride = 1)\n",
    "        self.bn6 = nn.BatchNorm2d(128)\n",
    "        \n",
    "        self.conv7 = conv3x3(in_channels = 128, out_channels = 128, stride = 1)\n",
    "        self.bn7 = nn.BatchNorm2d(128)\n",
    "        \n",
    "        self.conv8 = conv3x3(in_channels = 128, out_channels = 128, stride = 1)\n",
    "        self.bn8 = nn.BatchNorm2d(128)\n",
    "        \n",
    "        self.conv9 = conv3x3(in_channels = 128, out_channels = 256, stride = 2)\n",
    "        self.bn9 = nn.BatchNorm2d(128)\n",
    "        \n",
    "        self.conv10 = conv3x3(in_channels = 256, out_channels = 256, stride = 1)\n",
    "        self.bn10 = nn.BatchNorm2d(256)\n",
    "        \n",
    "        self.conv11 = conv3x3(in_channels = 256, out_channels = 256, stride = 1)\n",
    "        self.bn11 = nn.BatchNorm2d(256)\n",
    "        \n",
    "        self.conv12 = conv3x3(in_channels = 256, out_channels = 256, stride = 1)\n",
    "        self.bn12 = nn.BatchNorm2d(256)\n",
    "        \n",
    "        self.conv13 = conv3x3(in_channels = 256, out_channels = 512, stride = 2)\n",
    "        self.bn13 = nn.BatchNorm2d(256)\n",
    "        \n",
    "        self.conv14 = conv3x3(in_channels = 512, out_channels = 512, stride = 1)\n",
    "        self.bn14 = nn.BatchNorm2d(512)\n",
    "        \n",
    "        self.conv15 = conv3x3(in_channels = 512, out_channels = 512, stride = 1)\n",
    "        self.bn15 = nn.BatchNorm2d(512)\n",
    "               \n",
    "        self.conv16 = conv3x3(in_channels = 512, out_channels = 512, stride = 1)\n",
    "        self.bn16 = nn.BatchNorm2d(512)\n",
    "        \n",
    "        \n",
    "        self.AvgPool = nn.AvgPool2d(4)\n",
    "        \n",
    "        self.classifier = nn.Linear(512, num_classes)\n",
    "                \n",
    "                \n",
    "    def forward(self, x):\n",
    "        h = 0.1\n",
    "        \n",
    "        \n",
    "        \n",
    "        out = self.conv0(x)\n",
    "        out_conv0 = out\n",
    "\n",
    "        \n",
    "        \n",
    "        out = self.bn1(out)\n",
    "        out = F.relu(out)\n",
    "        out = self.conv1(out)\n",
    "        out = self.bn2(out)\n",
    "        out = F.relu(out)\n",
    "        out = self.conv2(out)\n",
    "        out_conv2 = out\n",
    "        out += out_conv0\n",
    "        out = F.relu(out)\n",
    "        out_residual1 = out\n",
    "\n",
    "\n",
    "        \n",
    "        out = self.bn3(out)\n",
    "        out = F.relu(out)\n",
    "        out = self.conv3(out)\n",
    "        out = self.bn4(out)\n",
    "        out = F.relu(out)\n",
    "        out = self.conv4(out)\n",
    "        out_conv4 = self.MaxPool(out)\n",
    "        out_conv4 = self.conv1x1_residual2(out_conv4)\n",
    "        out = h * (1.0 - self.k2) * out + out_residual1 + h * self.k2 * out_conv2\n",
    "        out = F.relu(out)\n",
    "        out_residual2 = self.MaxPool(out)\n",
    "        out_residual2 = self.conv1x1_residual2(out_residual2)\n",
    "\n",
    "        \n",
    "\n",
    "        \n",
    "        out = self.bn5(out)\n",
    "        out = F.relu(out)\n",
    "        out = self.conv5(out)\n",
    "        out = self.bn6(out)\n",
    "        out = F.relu(out)\n",
    "        out = self.conv6(out)\n",
    "        out_conv6 = out\n",
    "        out = h * (1.0 - self.k3) * out + out_residual2 + h * self.k3 * out_conv4\n",
    "        out = F.relu(out)\n",
    "        out_residual3 = out\n",
    "\n",
    "\n",
    "        \n",
    "        out = self.bn7(out)\n",
    "        out = F.relu(out)\n",
    "        out = self.conv7(out)\n",
    "        out = self.bn8(out)\n",
    "        out = F.relu(out)\n",
    "        out = self.conv8(out)\n",
    "        out_conv8 = self.MaxPool(out)\n",
    "        out_conv8 = self.conv1x1_residual4(out_conv8)\n",
    "        out = h*(1.0-self.k4)*out + out_residual3 + h*self.k4*out_conv6\n",
    "        out = F.relu(out)\n",
    "        out_residual4 = self.MaxPool(out)\n",
    "        out_residual4 = self.conv1x1_residual4(out_residual4)\n",
    "        \n",
    "\n",
    "\n",
    "        \n",
    "        out = self.bn9(out)\n",
    "        out = F.relu(out)\n",
    "        out = self.conv9(out)\n",
    "        out = self.bn10(out)\n",
    "        out = F.relu(out)\n",
    "        out = self.conv10(out)\n",
    "        out_conv10 = out\n",
    "        out = h*(1.0-self.k5)*out + out_residual4 + h*self.k5*out_conv8\n",
    "        out = F.relu(out)\n",
    "        out_residual5 = out\n",
    "\n",
    "\n",
    "        out = self.bn11(out)\n",
    "        out = F.relu(out)\n",
    "        out = self.conv11(out)\n",
    "        out = self.bn12(out)\n",
    "        out = F.relu(out)\n",
    "        out = self.conv12(out)\n",
    "        out_conv12 = self.MaxPool(out)\n",
    "        out_conv12 = self.conv1x1_residual6(out_conv12)\n",
    "        out = h*(1.0-self.k6)*out + out_residual5 + h*self.k6*out_conv10\n",
    "        out = F.relu(out)\n",
    "        out_residual6 = self.MaxPool(out)\n",
    "        out_residual6 = self.conv1x1_residual6(out_residual6)\n",
    "\n",
    "\n",
    "        \n",
    "        out = self.bn13(out)\n",
    "        out = F.relu(out)\n",
    "        out = self.conv13(out)\n",
    "        out = self.bn14(out)\n",
    "        out = F.relu(out)\n",
    "        out = self.conv14(out)\n",
    "        out_conv14 = out\n",
    "        out = h*(1.0-self.k7)*out + out_residual6 + h*self.k7*out_conv12\n",
    "        out = F.relu(out)\n",
    "        out_residual7 = out\n",
    "\n",
    "\n",
    "        \n",
    "        out = self.bn15(out)\n",
    "        out = F.relu(out)\n",
    "        out = self.conv15(out)\n",
    "        out = self.bn16(out)\n",
    "        out = F.relu(out)\n",
    "        out = self.conv16(out)\n",
    "        out_conv16 = out\n",
    "        out = h*(1.0-self.k8)*out + out_residual7 + h*self.k8*out_conv14\n",
    "        out = F.relu(out)\n",
    "\n",
    "\n",
    "        out = self.AvgPool(out)\n",
    "\n",
    "        out = out.view(out.size(0), -1)\n",
    "        out = self.classifier(out)\n",
    "        return out"
   ]
  },
  {
   "cell_type": "code",
   "execution_count": 5,
   "metadata": {
    "slideshow": {
     "slide_type": "subslide"
    }
   },
   "outputs": [
    {
     "name": "stdout",
     "output_type": "stream",
     "text": [
      "output: torch.Size([1, 10])\n"
     ]
    }
   ],
   "source": [
    "# 测试\n",
    "test_net = adamsnet(3, 10)\n",
    "test_x = Variable(torch.zeros(1, 3, 32, 32))\n",
    "test_y = test_net(test_x)\n",
    "print('output: {}'.format(test_y.shape))"
   ]
  },
  {
   "cell_type": "code",
   "execution_count": 6,
   "metadata": {
    "slideshow": {
     "slide_type": "skip"
    }
   },
   "outputs": [],
   "source": [
    "from datetime import datetime\n",
    "\n",
    "import torch\n",
    "import torch.nn.functional as F\n",
    "from torch import nn\n",
    "from torch.autograd import Variable\n",
    "\n",
    "\n",
    "def get_acc(output, label):\n",
    "    total = output.shape[0]\n",
    "    _, pred_label = output.max(1)\n",
    "    num_correct = (pred_label == label).sum().item()\n",
    "    return num_correct / total\n",
    "\n",
    "\n",
    "losses = []\n",
    "acces = []\n",
    "eval_losses = []\n",
    "eval_acces = []\n",
    "\n",
    "\n",
    "def train(net, train_data, test_data, num_epochs, optimizer, criterion):\n",
    "    if torch.cuda.is_available():\n",
    "        net = net.cuda()\n",
    "    \n",
    "    prev_time = datetime.now()\n",
    "    \n",
    "    \n",
    "    \n",
    "    for epoch in range(num_epochs):\n",
    "        \n",
    "        train_loss = 0\n",
    "        train_acc = 0\n",
    "        net = net.train()\n",
    "        \n",
    "        for im, label in train_data:\n",
    "            if torch.cuda.is_available():\n",
    "                im = Variable(im.cuda())  # (bs, 3, h, w)\n",
    "                label = Variable(label.cuda())  # (bs, h, w)\n",
    "            else:\n",
    "                im = Variable(im)\n",
    "                label = Variable(label)\n",
    "            # forward\n",
    "            output = net(im)\n",
    "            loss = criterion(output, label)\n",
    "            # backward\n",
    "            optimizer.zero_grad()\n",
    "            loss.backward()\n",
    "            optimizer.step()\n",
    "\n",
    "            train_loss += loss.item()\n",
    "            train_acc += get_acc(output, label)\n",
    "            \n",
    "        losses.append(train_loss / len(train_data))\n",
    "        acces.append(train_acc / len(train_data))\n",
    "\n",
    "        cur_time = datetime.now()\n",
    "        h, remainder = divmod((cur_time - prev_time).seconds, 3600)\n",
    "        m, s = divmod(remainder, 60)\n",
    "        time_str = \"Time %02d:%02d:%02d\" % (h, m, s)\n",
    "            \n",
    "        # 在测试集上检验效果\n",
    "        eval_loss = 0\n",
    "        eval_acc = 0\n",
    "        net = net.eval()\n",
    "        \n",
    "        for im, label in test_data:  \n",
    "            if torch.cuda.is_available():\n",
    "                im = Variable(im.cuda())\n",
    "                label = Variable(label.cuda())\n",
    "            else:\n",
    "                im = Variable(im)\n",
    "                label = Variable(label)\n",
    "                \n",
    "            output = net(im)\n",
    "            loss = criterion(output, label)\n",
    "            \n",
    "            eval_loss += loss.item()\n",
    "            eval_acc += get_acc(output, label)\n",
    "        \n",
    "        eval_losses.append(eval_loss / len(test_data))\n",
    "        eval_acces.append(eval_acc / len(test_data))\n",
    "        \n",
    "        epoch_str = (\n",
    "                \"Epoch %d. Train Loss: %f, Train Acc: %f, Eval Loss: %f, Eval Acc: %f, \"\n",
    "                % (epoch, train_loss / len(train_data),\n",
    "                   train_acc / len(train_data), eval_loss / len(test_data),\n",
    "                   eval_acc / len(test_data)))\n",
    "        \n",
    "        prev_time = cur_time\n",
    "        print(epoch_str + time_str)"
   ]
  },
  {
   "cell_type": "code",
   "execution_count": 10,
   "metadata": {
    "scrolled": false,
    "slideshow": {
     "slide_type": "slide"
    }
   },
   "outputs": [
    {
     "name": "stdout",
     "output_type": "stream",
     "text": [
      "(32, 32, 3) classes: 7\n"
     ]
    },
    {
     "data": {
      "text/plain": [
       "<matplotlib.image.AxesImage at 0x2ae49d38898>"
      ]
     },
     "execution_count": 10,
     "metadata": {},
     "output_type": "execute_result"
    },
    {
     "data": {
      "image/png": "[encoded data removed]",
      "text/plain": [
       "<Figure size 432x288 with 1 Axes>"
      ]
     },
     "metadata": {
      "needs_background": "light"
     },
     "output_type": "display_data"
    }
   ],
   "source": [
    "import matplotlib.pyplot as plt\n",
    "train_set = CIFAR10('./cifar10', train = True, download = 0)\n",
    "im, la = train_set[7]\n",
    "print(np.array(im).shape,'classes:', la)\n",
    "plt.imshow(im)"
   ]
  },
  {
   "cell_type": "code",
   "execution_count": 11,
   "metadata": {
    "slideshow": {
     "slide_type": "skip"
    }
   },
   "outputs": [],
   "source": [
    "def data_tf(x):\n",
    "    x = np.array(x, dtype = 'float32') / 255\n",
    "    x = (x - 0.5) / 0.5 \n",
    "    x = x.transpose((2, 0, 1)) \n",
    "    x = torch.from_numpy(x)\n",
    "    # 加噪\n",
    "    noise = torch.randn(x.size()) * 0.07\n",
    "    x = x + Variable(noise, requires_grad = False)\n",
    "    return x\n",
    "     \n",
    "train_set = CIFAR10('./cifar10', train = True, transform = data_tf, download = 0)\n",
    "train_data = torch.utils.data.DataLoader(train_set, batch_size = 64, shuffle = True)\n",
    "test_set = CIFAR10('./cifar10', train = False, transform = data_tf, download =  0)\n",
    "test_data = torch.utils.data.DataLoader(test_set, batch_size = 128, shuffle = False)\n",
    "\n",
    "net = adamsnet(3, 10)\n",
    "optimizer = torch.optim.SGD(net.parameters(), lr = 0.01)\n",
    "criterion = nn.CrossEntropyLoss()"
   ]
  },
  {
   "cell_type": "code",
   "execution_count": 12,
   "metadata": {},
   "outputs": [
    {
     "name": "stdout",
     "output_type": "stream",
     "text": [
      "classes: 7\n",
      "torch.Size([3, 32, 32])\n"
     ]
    },
    {
     "name": "stderr",
     "output_type": "stream",
     "text": [
      "Clipping input data to the valid range for imshow with RGB data ([0..1] for floats or [0..255] for integers).\n"
     ]
    },
    {
     "data": {
      "text/plain": [
       "<matplotlib.image.AxesImage at 0x2ae4862f278>"
      ]
     },
     "execution_count": 12,
     "metadata": {},
     "output_type": "execute_result"
    },
    {
     "data": {
      "image/png": "[encoded data removed]",
      "text/plain": [
       "<Figure size 432x288 with 1 Axes>"
      ]
     },
     "metadata": {
      "needs_background": "light"
     },
     "output_type": "display_data"
    }
   ],
   "source": [
    "im, la = train_set[7]\n",
    "print('classes:', la)\n",
    "print(im.shape)\n",
    "plt.imshow(np.array(im).transpose(1,2,0))"
   ]
  },
  {
   "cell_type": "code",
   "execution_count": 11,
   "metadata": {
    "slideshow": {
     "slide_type": "skip"
    }
   },
   "outputs": [
    {
     "name": "stdout",
     "output_type": "stream",
     "text": [
      "Epoch 0. Train Loss: 1.382180, Train Acc: 0.496324, Eval Loss: 1.902685, Eval Acc: 0.414755, Time 00:00:43\n",
      "Epoch 1. Train Loss: 0.903085, Train Acc: 0.676890, Eval Loss: 1.611683, Eval Acc: 0.532437, Time 00:00:47\n",
      "Epoch 2. Train Loss: 0.682076, Train Acc: 0.759751, Eval Loss: 1.212074, Eval Acc: 0.653481, Time 00:00:46\n",
      "Epoch 3. Train Loss: 0.526183, Train Acc: 0.816976, Eval Loss: 0.738932, Eval Acc: 0.750593, Time 00:00:47\n",
      "Epoch 4. Train Loss: 0.396685, Train Acc: 0.860374, Eval Loss: 1.025009, Eval Acc: 0.690368, Time 00:00:47\n",
      "Epoch 5. Train Loss: 0.289905, Train Acc: 0.899257, Eval Loss: 1.028426, Eval Acc: 0.688390, Time 00:00:47\n",
      "Epoch 6. Train Loss: 0.206495, Train Acc: 0.928848, Eval Loss: 1.527208, Eval Acc: 0.641911, Time 00:00:47\n",
      "Epoch 7. Train Loss: 0.152025, Train Acc: 0.948270, Eval Loss: 1.066767, Eval Acc: 0.725672, Time 00:00:47\n",
      "Epoch 8. Train Loss: 0.110192, Train Acc: 0.962096, Eval Loss: 2.118329, Eval Acc: 0.576246, Time 00:00:47\n",
      "Epoch 9. Train Loss: 0.084856, Train Acc: 0.971467, Eval Loss: 0.964332, Eval Acc: 0.770669, Time 00:00:47\n",
      "Epoch 10. Train Loss: 0.059692, Train Acc: 0.980559, Eval Loss: 0.856985, Eval Acc: 0.792820, Time 00:00:47\n",
      "Epoch 11. Train Loss: 0.046170, Train Acc: 0.985334, Eval Loss: 3.398275, Eval Acc: 0.545886, Time 00:00:47\n",
      "Epoch 12. Train Loss: 0.050096, Train Acc: 0.983676, Eval Loss: 2.147686, Eval Acc: 0.612540, Time 00:00:47\n",
      "Epoch 13. Train Loss: 0.042260, Train Acc: 0.985354, Eval Loss: 0.937187, Eval Acc: 0.793315, Time 00:00:47\n",
      "Epoch 14. Train Loss: 0.025019, Train Acc: 0.991828, Eval Loss: 1.938836, Eval Acc: 0.674051, Time 00:00:47\n",
      "Epoch 15. Train Loss: 0.022400, Train Acc: 0.993246, Eval Loss: 5.980422, Eval Acc: 0.442247, Time 00:00:47\n",
      "Epoch 16. Train Loss: 0.021050, Train Acc: 0.993466, Eval Loss: 1.016131, Eval Acc: 0.793414, Time 00:00:47\n",
      "Epoch 17. Train Loss: 0.016533, Train Acc: 0.994625, Eval Loss: 1.027820, Eval Acc: 0.792722, Time 00:00:47\n",
      "Epoch 18. Train Loss: 0.019162, Train Acc: 0.993526, Eval Loss: 1.015584, Eval Acc: 0.793216, Time 00:00:47\n",
      "Epoch 19. Train Loss: 0.019264, Train Acc: 0.993686, Eval Loss: 0.934239, Eval Acc: 0.811116, Time 00:00:47\n"
     ]
    }
   ],
   "source": [
    "train(net, train_data, test_data, 20, optimizer, criterion)"
   ]
  },
  {
   "cell_type": "code",
   "execution_count": 12,
   "metadata": {
    "slideshow": {
     "slide_type": "subslide"
    }
   },
   "outputs": [
    {
     "data": {
      "text/plain": [
       "<matplotlib.legend.Legend at 0x7fd41e54edd8>"
      ]
     },
     "execution_count": 12,
     "metadata": {},
     "output_type": "execute_result"
    },
    {
     "data": {
      "image/png": "[encoded data removed]",
      "text/plain": [
       "<Figure size 432x288 with 1 Axes>"
      ]
     },
     "metadata": {
      "needs_background": "light"
     },
     "output_type": "display_data"
    }
   ],
   "source": [
    "import matplotlib.pyplot as plt\n",
    "%matplotlib inline\n",
    "plt.plot(np.arange(len(losses)), losses, color = 'red', linestyle = '--', \n",
    "         marker = '+', linewidth = '2', label = 'train loss' )\n",
    "plt.plot(np.arange(len(eval_losses)), eval_losses, color = 'purple', linestyle = ':', \n",
    "         marker = '*', linewidth = '2', label = 'eval loss' )\n",
    "plt.legend(loc = 'best')"
   ]
  },
  {
   "cell_type": "code",
   "execution_count": 13,
   "metadata": {
    "slideshow": {
     "slide_type": "subslide"
    }
   },
   "outputs": [
    {
     "data": {
      "text/plain": [
       "<matplotlib.legend.Legend at 0x7fd41fe98470>"
      ]
     },
     "execution_count": 13,
     "metadata": {},
     "output_type": "execute_result"
    },
    {
     "data": {
      "image/png": "[encoded data removed]",
      "text/plain": [
       "<Figure size 432x288 with 1 Axes>"
      ]
     },
     "metadata": {
      "needs_background": "light"
     },
     "output_type": "display_data"
    }
   ],
   "source": [
    "plt.plot(np.arange(len(acces)), acces, color = 'blue', linestyle = '-', \n",
    "         marker = '*', linewidth = '2', label = 'train acc' )\n",
    "plt.plot(np.arange(len(eval_acces)), eval_acces, color = 'green', linestyle = ':', \n",
    "         marker = '>', linewidth = '2', label = 'eval acc' )\n",
    "plt.legend(loc = 'best')"
   ]
  }
 ],
 "metadata": {
  "kernelspec": {
   "display_name": "Python 3",
   "language": "python",
   "name": "python3"
  },
  "language_info": {
   "codemirror_mode": {
    "name": "ipython",
    "version": 3
   },
   "file_extension": ".py",
   "mimetype": "text/x-python",
   "name": "python",
   "nbconvert_exporter": "python",
   "pygments_lexer": "ipython3",
   "version": "3.7.0"
  }
 },
 "nbformat": 4,
 "nbformat_minor": 2
}
